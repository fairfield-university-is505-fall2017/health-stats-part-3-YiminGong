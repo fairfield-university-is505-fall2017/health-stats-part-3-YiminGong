{
 "cells": [
  {
   "cell_type": "markdown",
   "metadata": {},
   "source": [
    "# Health Stats Part 2: Waist 2 Hip Ratios"
   ]
  },
  {
   "cell_type": "markdown",
   "metadata": {},
   "source": [
    "<!--- Write an explanation of the Waist To Hips Ratio statistic used by health professionals. Please include an explanation of what it is used for, exactly how it is calculated, and how to interpret the results. Note: Formmatting matters. Make this as professional as you can using Markdown.  --->\n",
    "EDIT THIS MARKDOWN CELL"
   ]
  },
  {
   "cell_type": "markdown",
   "metadata": {},
   "source": [
    "## Source Data "
   ]
  },
  {
   "cell_type": "markdown",
   "metadata": {},
   "source": [
    "<!--- Replace the text below with a Markdown bullet list that defines the columns of the CSV file. Be sure to indicate the data type for each column. --->\n",
    "EDIT THIS MARKDOWN CELL"
   ]
  },
  {
   "cell_type": "markdown",
   "metadata": {},
   "source": [
    "## Data Import"
   ]
  },
  {
   "cell_type": "code",
   "execution_count": 59,
   "metadata": {},
   "outputs": [
    {
     "name": "stdout",
     "output_type": "stream",
     "text": [
      "[( 1, 30, 32, b'M') ( 2, 32, 37, b'M') ( 3, 30, 36, b'M')\n",
      " ( 4, 33, 39, b'M') ( 5, 29, 33, b'M') ( 6, 32, 38, b'M')\n",
      " ( 7, 33, 42, b'M') ( 8, 30, 40, b'M') ( 9, 30, 37, b'M')\n",
      " (10, 32, 39, b'M') (11, 24, 35, b'F') (12, 25, 37, b'F')\n",
      " (13, 24, 37, b'F') (14, 22, 34, b'F') (15, 26, 38, b'F')\n",
      " (16, 26, 37, b'F') (17, 25, 38, b'F') (18, 26, 37, b'F')\n",
      " (19, 28, 40, b'F') (20, 23, 35, b'F')]\n"
     ]
    }
   ],
   "source": [
    "# Goal: Extract the data from the file\n",
    "\n",
    "# opens the w2h_data.csv for reading\n",
    "import numpy as np\n",
    "f = np.recfromcsv(\"w2h_data.csv\",skip_header=1,dtype=(\"i8\",\"i8\",\"i8\",\"S25\"),names=\"ID,Waist,Hip,Gender\",delimiter=\",\")\n",
    "print(f)\n"
   ]
  },
  {
   "cell_type": "markdown",
   "metadata": {},
   "source": [
    "## Calculations"
   ]
  },
  {
   "cell_type": "code",
   "execution_count": 63,
   "metadata": {},
   "outputs": [
    {
     "name": "stdout",
     "output_type": "stream",
     "text": [
      "[ 0.9375      0.86486486  0.83333333  0.84615385  0.87878788  0.84210526\n",
      "  0.78571429  0.75        0.81081081  0.82051282  0.68571429  0.67567568\n",
      "  0.64864865  0.64705882  0.68421053  0.7027027   0.65789474  0.7027027\n",
      "  0.7         0.65714286]\n",
      "[[b'1' b'30' b'32' b'M' b'0.9375']\n",
      " [b'2' b'32' b'37' b'M' b'0.8648648648648649']\n",
      " [b'3' b'30' b'36' b'M' b'0.8333333333333334']\n",
      " [b'4' b'33' b'39' b'M' b'0.8461538461538461']\n",
      " [b'5' b'29' b'33' b'M' b'0.8787878787878788']\n",
      " [b'6' b'32' b'38' b'M' b'0.8421052631578947']\n",
      " [b'7' b'33' b'42' b'M' b'0.7857142857142857']\n",
      " [b'8' b'30' b'40' b'M' b'0.75']\n",
      " [b'9' b'30' b'37' b'M' b'0.8108108108108109']\n",
      " [b'10' b'32' b'39' b'M' b'0.8205128205128205']\n",
      " [b'11' b'24' b'35' b'F' b'0.6857142857142857']\n",
      " [b'12' b'25' b'37' b'F' b'0.6756756756756757']\n",
      " [b'13' b'24' b'37' b'F' b'0.6486486486486487']\n",
      " [b'14' b'22' b'34' b'F' b'0.6470588235294118']\n",
      " [b'15' b'26' b'38' b'F' b'0.6842105263157895']\n",
      " [b'16' b'26' b'37' b'F' b'0.7027027027027027']\n",
      " [b'17' b'25' b'38' b'F' b'0.6578947368421053']\n",
      " [b'18' b'26' b'37' b'F' b'0.7027027027027027']\n",
      " [b'19' b'28' b'40' b'F' b'0.7']\n",
      " [b'20' b'23' b'35' b'F' b'0.6571428571428571']]\n",
      "[['1' '30' '32' 'M' '0.9375' 'Apple']\n",
      " ['2' '32' '37' 'M' '0.8648648648648649' 'Apple']\n",
      " ['3' '30' '36' 'M' '0.8333333333333334' 'Apple']\n",
      " ['4' '33' '39' 'M' '0.8461538461538461' 'Apple']\n",
      " ['5' '29' '33' 'M' '0.8787878787878788' 'Apple']\n",
      " ['6' '32' '38' 'M' '0.8421052631578947' 'Apple']\n",
      " ['7' '33' '42' 'M' '0.7857142857142857' 'Pear']\n",
      " ['8' '30' '40' 'M' '0.75' 'Pear']\n",
      " ['9' '30' '37' 'M' '0.8108108108108109' 'Apple']\n",
      " ['10' '32' '39' 'M' '0.8205128205128205' 'Apple']\n",
      " ['11' '24' '35' 'F' '0.6857142857142857' 'Pear']\n",
      " ['12' '25' '37' 'F' '0.6756756756756757' 'Pear']\n",
      " ['13' '24' '37' 'F' '0.6486486486486487' 'Pear']\n",
      " ['14' '22' '34' 'F' '0.6470588235294118' 'Pear']\n",
      " ['15' '26' '38' 'F' '0.6842105263157895' 'Pear']\n",
      " ['16' '26' '37' 'F' '0.7027027027027027' 'Pear']\n",
      " ['17' '25' '38' 'F' '0.6578947368421053' 'Pear']\n",
      " ['18' '26' '37' 'F' '0.7027027027027027' 'Pear']\n",
      " ['19' '28' '40' 'F' '0.7' 'Pear']\n",
      " ['20' '23' '35' 'F' '0.6571428571428571' 'Pear']]\n"
     ]
    },
    {
     "ename": "TypeError",
     "evalue": "'numpy.ndarray' object is not callable",
     "output_type": "error",
     "traceback": [
      "\u001b[1;31m---------------------------------------------------------------------------\u001b[0m",
      "\u001b[1;31mTypeError\u001b[0m                                 Traceback (most recent call last)",
      "\u001b[1;32m<ipython-input-63-bf7554245eba>\u001b[0m in \u001b[0;36m<module>\u001b[1;34m()\u001b[0m\n\u001b[0;32m     12\u001b[0m \u001b[0mprint\u001b[0m\u001b[1;33m(\u001b[0m\u001b[0mf_2\u001b[0m\u001b[1;33m)\u001b[0m\u001b[1;33m\u001b[0m\u001b[0m\n\u001b[0;32m     13\u001b[0m \u001b[1;33m\u001b[0m\u001b[0m\n\u001b[1;32m---> 14\u001b[1;33m \u001b[0mnp\u001b[0m\u001b[1;33m.\u001b[0m\u001b[0mdtypes\u001b[0m \u001b[1;33m=\u001b[0m\u001b[0mf_2\u001b[0m\u001b[1;33m(\u001b[0m \u001b[1;34m'i8, i8, i8, S25, f8, S25'\u001b[0m\u001b[1;33m)\u001b[0m\u001b[1;33m\u001b[0m\u001b[0m\n\u001b[0m\u001b[0;32m     15\u001b[0m \u001b[1;33m\u001b[0m\u001b[0m\n",
      "\u001b[1;31mTypeError\u001b[0m: 'numpy.ndarray' object is not callable"
     ]
    }
   ],
   "source": [
    "# Calculate the w2h_ratio \n",
    "w2h_ratio=np.rec.array(f.waist/f.hip,dtype=(\"f8\"))\n",
    "print(w2h_ratio)\n",
    "\n",
    "f_1=np.c_[f.id,f.waist,f.hip,f.gender,w2h_ratio]\n",
    "print(f_1)\n",
    "\n",
    "# Based on the ratio and the gender, set the variable shape to either 'apple' or 'pear'\n",
    "shape=np.where(f.gender==\"M\",np.where(w2h_ratio>0.9,\"Apple\",\"Pear\"),np.where(w2h_ratio>0.8,\"Apple\",\"Pear\"))\n",
    "\n",
    "f_2=np.c_[f.id,f.waist,f.hip,f.gender,w2h_ratio,shape]\n",
    "print(f_2)\n",
    "\n",
    "\n"
   ]
  },
  {
   "cell_type": "markdown",
   "metadata": {},
   "source": [
    "## Output"
   ]
  },
  {
   "cell_type": "code",
   "execution_count": 65,
   "metadata": {},
   "outputs": [
    {
     "ename": "NameError",
     "evalue": "name 'rows' is not defined",
     "output_type": "error",
     "traceback": [
      "\u001b[1;31m---------------------------------------------------------------------------\u001b[0m",
      "\u001b[1;31mNameError\u001b[0m                                 Traceback (most recent call last)",
      "\u001b[1;32m<ipython-input-65-ced03f746489>\u001b[0m in \u001b[0;36m<module>\u001b[1;34m()\u001b[0m\n\u001b[0;32m      3\u001b[0m \u001b[1;31m# Note: this works, but we can do this much better with pandas\u001b[0m\u001b[1;33m\u001b[0m\u001b[1;33m\u001b[0m\u001b[0m\n\u001b[0;32m      4\u001b[0m \u001b[0mhtml_table\u001b[0m \u001b[1;33m=\u001b[0m \u001b[1;34m'<table><tr><th>'\u001b[0m\u001b[1;33m\u001b[0m\u001b[0m\n\u001b[1;32m----> 5\u001b[1;33m \u001b[0mhtml_table\u001b[0m \u001b[1;33m+=\u001b[0m \u001b[1;34m\"</th><th>\"\u001b[0m\u001b[1;33m.\u001b[0m\u001b[0mjoin\u001b[0m\u001b[1;33m(\u001b[0m\u001b[0mrows\u001b[0m\u001b[1;33m[\u001b[0m\u001b[1;36m0\u001b[0m\u001b[1;33m]\u001b[0m\u001b[1;33m.\u001b[0m\u001b[0mkeys\u001b[0m\u001b[1;33m(\u001b[0m\u001b[1;33m)\u001b[0m\u001b[1;33m)\u001b[0m\u001b[1;33m\u001b[0m\u001b[0m\n\u001b[0m\u001b[0;32m      6\u001b[0m \u001b[0mhtml_table\u001b[0m \u001b[1;33m+=\u001b[0m \u001b[1;34m'</th></tr>'\u001b[0m\u001b[1;33m\u001b[0m\u001b[0m\n\u001b[0;32m      7\u001b[0m \u001b[1;32mfor\u001b[0m \u001b[0mrow\u001b[0m \u001b[1;32min\u001b[0m \u001b[0mrows\u001b[0m\u001b[1;33m:\u001b[0m\u001b[1;33m\u001b[0m\u001b[0m\n",
      "\u001b[1;31mNameError\u001b[0m: name 'rows' is not defined"
     ]
    }
   ],
   "source": [
    "# Goal: pretty print the rows as an HTML table\n",
    "\n",
    "# Note: this works, but we can do this much better with pandas\n",
    "html_table = '<table><tr><th>'\n",
    "html_table += \"</th><th>\".join(rows[0].keys())\n",
    "html_table += '</th></tr>'\n",
    "for row in rows:\n",
    "    html_table += \"<tr><td>\"\n",
    "    html_table += \"</td><td>\".join(str(v) for v in row.values())\n",
    "    html_table += \"</td></tr>\"\n",
    "html_table += \"</table>\"\n",
    "\n",
    "from IPython.display import HTML, display\n",
    "display(HTML(html_table))\n",
    "\n",
    "outfile=open(\"StatsResults.html\",\"w\")\n",
    "outfile.write(html_table)\n",
    "\n",
    "np.savetxt(\"out.csv\",w2h,delimiter=\",\")"
   ]
  },
  {
   "cell_type": "code",
   "execution_count": null,
   "metadata": {
    "collapsed": true
   },
   "outputs": [],
   "source": []
  }
 ],
 "metadata": {
  "kernelspec": {
   "display_name": "Python 3",
   "language": "python",
   "name": "python3"
  },
  "language_info": {
   "codemirror_mode": {
    "name": "ipython",
    "version": 3
   },
   "file_extension": ".py",
   "mimetype": "text/x-python",
   "name": "python",
   "nbconvert_exporter": "python",
   "pygments_lexer": "ipython3",
   "version": "3.6.1"
  }
 },
 "nbformat": 4,
 "nbformat_minor": 2
}
